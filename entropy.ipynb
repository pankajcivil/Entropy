{
  "nbformat": 4,
  "nbformat_minor": 0,
  "metadata": {
    "colab": {
      "name": "entropy.ipynb",
      "provenance": [],
      "authorship_tag": "ABX9TyPQLiFZbV5OScE79bkJDs9w",
      "include_colab_link": true
    },
    "kernelspec": {
      "name": "python3",
      "display_name": "Python 3"
    }
  },
  "cells": [
    {
      "cell_type": "markdown",
      "metadata": {
        "id": "view-in-github",
        "colab_type": "text"
      },
      "source": [
        "<a href=\"https://colab.research.google.com/github/rehsani/Entropy/blob/master/entropy.ipynb\" target=\"_parent\"><img src=\"https://colab.research.google.com/assets/colab-badge.svg\" alt=\"Open In Colab\"/></a>"
      ]
    },
    {
      "cell_type": "markdown",
      "metadata": {
        "id": "_ho2xrKkrEMl"
      },
      "source": [
        "**Entropy Estimation Using Quantile Spacing Approach**\r\n",
        "\r\n",
        "We have developed a simple Quantile Spacing (QS) method for accurate probabilistic estimation of one-dimensional entropy from equiprobable random samples. In contrast to Bin Counting (BC) method, which uses equal-width bins with varying probability mass, the QS method uses estimates of the quantiles that divide the support of the data generating probability density function (pdf) into equal-probability-mass intervals. Whereas BC requires optimal\r\n",
        "tuning of a bin-width hyper-parameter whose value varies with sample size and shape of the pdf, QS requires specification of the number of quantiles to be used. \r\n",
        "\r\n",
        "For the class of distributions tested, that the optimal number of quantile-spacings is a fixed fraction of the sample size (empirically determined to be ~0.25-0.35), and that this value is relatively insensitive to distributional form or sample size, providing a clear advantage over BC since\r\n",
        "hyperparameter tuning is not required. \r\n",
        "\r\n",
        "Bootstrapping is used to approximate the sampling variability distribution of the resulting entropy estimate, and is shown to accurately reflect the true uncertainty. For the four distributional forms studied (Gaussian, Log-Normal, Exponential and Bimodal Gaussian Mixture), expected estimation bias\r\n",
        "is less than 1% and uncertainty is relatively low even for very small sample sizes. We speculate that estimating quantile locations, rather than bin-probabilities, results in more efficient use of the information in the data to approximate the underlying shape of an unknown data generating pdf.\r\n",
        "\r\n",
        "For more information please see the [manuscript](https://). \r\n",
        "\r\n",
        "If you have any question, feel free to contact us at hoshin@email.arizona.edu or rehsani@email.arizona.edu."
      ]
    },
    {
      "cell_type": "markdown",
      "metadata": {
        "id": "4TKge8N7uiym"
      },
      "source": [
        "First, we need to import some required libraries:"
      ]
    },
    {
      "cell_type": "code",
      "metadata": {
        "id": "Y9psMLpArF1I"
      },
      "source": [
        "import numpy as np\r\n",
        "np.random.seed(42)\r\n",
        "import matplotlib.pyplot as plt\r\n",
        "plt.rcParams['figure.dpi'] = 300\r\n",
        "plt.rcParams['figure.figsize'] = (3, 2)"
      ],
      "execution_count": 18,
      "outputs": []
    },
    {
      "cell_type": "markdown",
      "metadata": {
        "id": "o-JS8tt-t3A7"
      },
      "source": [
        "First, let's take a look at the Entropy module:\r\n"
      ]
    },
    {
      "cell_type": "code",
      "metadata": {
        "id": "7EsrItNIt3QW"
      },
      "source": [
        "import numpy as np\r\n",
        "np.random.seed(42)\r\n",
        "from typing import Sequence, Any\r\n",
        "\r\n",
        "class entropy:\r\n",
        "\r\n",
        "    def __init__(self, sample: Sequence[Any], alpha: float, N_b: int, N_k: int):\r\n",
        "        \r\n",
        "        \"\"\"\r\n",
        "        Uses Quantile Spacing (QS) method for accurate probabilistic estimation \r\n",
        "        of one-dimensional entropy from equiprobable random samples. QS method \r\n",
        "        uses estimates of the quantiles that divide the support of the data \r\n",
        "        generating probability density function (pdf) into \r\n",
        "        equal-probability-mass intervals. QS requires specification of the \r\n",
        "        'number of quantiles' (i.e., alpha) to be used. The optimal number of \r\n",
        "        quantile-spacings is a fixed fraction of the sample size \r\n",
        "        (empirically determined to be ~0.25), and this value is insensitive to \r\n",
        "        distributional form or sample size (for the class of distributions \r\n",
        "        tested).\r\n",
        "        \r\n",
        "        Parameters\r\n",
        "        ------------------------------------------------------------------------\r\n",
        "        sample : A sequence of numbers (e.g., list or numpy.ndarray)\r\n",
        "            Sample for which entropy is estimated\r\n",
        "            \r\n",
        "        alpha : float, suggested value = 0.25\r\n",
        "            Percent of the instances from the sample used for estimation of \r\n",
        "            entropy (i.e., number of quantile-spacings).\r\n",
        "            \r\n",
        "        N_b : int, suggested value = 500\r\n",
        "            Number of bootstraps, used to approximate the sampling variability \r\n",
        "            distribution of the resulting entropy estimate\r\n",
        "            \r\n",
        "        N_k : int, suggested value = 500\r\n",
        "            Number of sample subsets, used to estimate the sample distribution \r\n",
        "            for each quantile empirically\r\n",
        "        \r\n",
        "        \"\"\"\r\n",
        "        \r\n",
        "        self.sample = np.array(sample)\r\n",
        "        self.alpha = alpha\r\n",
        "        self.N_b = N_b\r\n",
        "        self.N_k = N_k\r\n",
        "    \r\n",
        "\r\n",
        "    def estimator(self):\r\n",
        "        \"\"\"\r\n",
        "        Estimates entropy from the 'sample' using 'alpha' percent of instances.\r\n",
        "    \r\n",
        "        Returns\r\n",
        "        ------------------------------------------------------------------------\r\n",
        "        H : float\r\n",
        "            Estimated entropy for the sample using 'alpha' percent of instances\r\n",
        "        \"\"\"\r\n",
        "        \r\n",
        "        n = np.ceil(self.alpha * self.sample.size).astype(np.int64)   \r\n",
        "        x_min = self.sample.min()\r\n",
        "        x_max = self.sample.max()\r\n",
        "        self.sample.sort()\r\n",
        "        H = []\r\n",
        "        for i in range(self.N_b):\r\n",
        "            sample_b = np.random.choice(self.sample[1:-1], self.sample.size)\r\n",
        "            X_alpha = [np.random.choice(sample_b[1:-1], n, replace=False) \r\n",
        "                       for _ in range(self.N_k)]\r\n",
        "            X_alpha = np.vstack(X_alpha)\r\n",
        "            X_alpha.sort(axis=1)\r\n",
        "            Z = np.hstack([x_min, X_alpha.mean(axis=0), x_max])\r\n",
        "            dZ = np.diff(Z)\r\n",
        "            h = 1 / (n + 1) * np.log((n + 1) * dZ).sum()\r\n",
        "            H.append(h)\r\n",
        "        return np.array(H)"
      ],
      "execution_count": 15,
      "outputs": []
    },
    {
      "cell_type": "markdown",
      "metadata": {
        "id": "S48g4BYhrdQf"
      },
      "source": [
        "Put the **entropy.py** file in the directory you are working with and import it as a library:\r\n",
        "\r\n",
        "import entropy"
      ]
    },
    {
      "cell_type": "markdown",
      "metadata": {
        "id": "ER33ZdXitJZl"
      },
      "source": [
        "**Example 1**\r\n",
        "\r\n",
        "Here we use a sample of size 5,000 from a Guassian distribution ($\\mu=0, \\sigma=1$) with known true entropy ($H_{t}=1.419$) to test the algorithm:"
      ]
    },
    {
      "cell_type": "code",
      "metadata": {
        "id": "G6BKTh7xth7k"
      },
      "source": [
        "mu = 0\r\n",
        "sigma = 1\r\n",
        "H_true = 0.5 * np.log(2*np.pi*np.exp(1)*sigma**2)\r\n",
        "\r\n",
        "n = 5000\r\n",
        "sample = np.random.normal(mu, sigma, n)\r\n",
        "H = entropy(sample, alpha=0.25, N_b=100, N_k=500)\r\n",
        "H = H.estimator()"
      ],
      "execution_count": 16,
      "outputs": []
    },
    {
      "cell_type": "markdown",
      "metadata": {
        "id": "nmdbxLTpuGOL"
      },
      "source": [
        "Let's take a look at the estimated entropy:"
      ]
    },
    {
      "cell_type": "code",
      "metadata": {
        "colab": {
          "base_uri": "https://localhost:8080/",
          "height": 561
        },
        "id": "6irr4-c7uKkT",
        "outputId": "3e21a932-400a-4747-f4a4-b294eb41da96"
      },
      "source": [
        "plt.boxplot(H)\r\n",
        "plt.xticks([])\r\n",
        "plt.ylabel('Estimated Entropy', fontsize=5)\r\n",
        "plt.yticks(fontsize=4)\r\n",
        "plt.text(0.05, 0.9,\r\n",
        "         'True Entropy = {} \\nMean Estimated Entropy = {} \\n'.\r\n",
        "         format(H_true.round(3), H.mean().round(3)),\r\n",
        "         fontsize=4,\r\n",
        "         horizontalalignment='left',\r\n",
        "         verticalalignment='center',\r\n",
        "         transform = plt.gca().transAxes)"
      ],
      "execution_count": 24,
      "outputs": [
        {
          "output_type": "execute_result",
          "data": {
            "text/plain": [
              "Text(0.05, 0.9, 'True Entropy = 1.419 \\nMean Estimated Entropy = 1.41 \\n')"
            ]
          },
          "metadata": {
            "tags": []
          },
          "execution_count": 24
        },
        {
          "output_type": "display_data",
          "data": {
            "image/png": "[encoded data removed]",
            "text/plain": [
              "<Figure size 900x600 with 1 Axes>"
            ]
          },
          "metadata": {
            "tags": [],
            "needs_background": "light"
          }
        }
      ]
    }
  ]
}